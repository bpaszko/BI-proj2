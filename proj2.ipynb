{
 "cells": [
  {
   "cell_type": "code",
   "execution_count": 1,
   "metadata": {},
   "outputs": [],
   "source": [
    "%matplotlib inline"
   ]
  },
  {
   "cell_type": "code",
   "execution_count": 2,
   "metadata": {},
   "outputs": [],
   "source": [
    "import os\n",
    "import numpy as np\n",
    "import pandas as pd\n",
    "import matplotlib.pyplot as plt\n",
    "import itertools\n",
    "\n",
    "from tqdm import tqdm_notebook as tqdm\n",
    "from multiprocessing import Pool\n",
    "from collections import Counter"
   ]
  },
  {
   "cell_type": "code",
   "execution_count": 3,
   "metadata": {},
   "outputs": [],
   "source": [
    "def add_new(start, end, collection, check_last=False):\n",
    "    if check_last and collection:\n",
    "        last_start, last_end = collection[-1]\n",
    "        if start <= last_end:\n",
    "            collection[-1] = (last_start, end)\n",
    "            return\n",
    "    collection.append((start, end))\n",
    "        \n",
    "        \n",
    "def load_file(f_name, start_col=0, stop_col=2):\n",
    "    df = pd.read_csv(f_name, header=None, sep='\\t')\n",
    "    df = df.loc[:, start_col:stop_col]\n",
    "    df = df.rename(columns={i: col for i, col in zip(range(start_col, stop_col+1), ['chr', 'start', 'stop'])})\n",
    "    df = df[df.apply(lambda row: row['chr'][3:].isdigit(), axis=1)]\n",
    "    return df\n",
    "    \n",
    "        \n",
    "def load_boundaries(f_name):\n",
    "    boundaries = pd.read_csv(f_name, header=None, sep='\\t')\n",
    "    boundaries = boundaries.rename(columns={0:'chr', 1:'boundary'})\n",
    "    boundaries = boundaries[boundaries.apply(lambda row: row['chr'][3:].isdigit(), axis=1)]\n",
    "    return boundaries.set_index('chr')"
   ]
  },
  {
   "cell_type": "code",
   "execution_count": 4,
   "metadata": {},
   "outputs": [
    {
     "data": {
      "text/plain": [
       "chr19    2541\n",
       "chr1     2462\n",
       "chr2     1688\n",
       "chr17    1634\n",
       "chr7     1578\n",
       "chr16    1491\n",
       "chr11    1367\n",
       "chr6     1253\n",
       "chr5     1229\n",
       "chr9     1226\n",
       "chr12    1221\n",
       "chr3     1163\n",
       "chr10    1143\n",
       "chr8     1037\n",
       "chr4     1031\n",
       "chr20     801\n",
       "chr15     792\n",
       "chr14     788\n",
       "chr22     719\n",
       "chr13     605\n",
       "chr18     507\n",
       "chr21     365\n",
       "Name: chr, dtype: int64"
      ]
     },
     "execution_count": 4,
     "metadata": {},
     "output_type": "execute_result"
    }
   ],
   "source": [
    "df = load_file('./data/cpgIslandExt.txt', start_col=1, stop_col=3)\n",
    "df['chr'].value_counts()"
   ]
  },
  {
   "cell_type": "code",
   "execution_count": 5,
   "metadata": {},
   "outputs": [
    {
     "data": {
      "text/plain": [
       "chr1     46567\n",
       "chr6     36438\n",
       "chr2     34501\n",
       "chr7     29844\n",
       "chr11    28654\n",
       "chr17    27775\n",
       "chr19    25449\n",
       "chr3     24996\n",
       "chr12    24385\n",
       "chr10    24212\n",
       "chr5     24168\n",
       "chr16    21876\n",
       "chr8     20787\n",
       "chr4     20276\n",
       "chr15    15146\n",
       "chr14    14987\n",
       "chr13    12175\n",
       "chr20    10302\n",
       "chr9      9736\n",
       "chr22     8502\n",
       "chr18     5889\n",
       "chr21     4205\n",
       "Name: chr, dtype: int64"
      ]
     },
     "execution_count": 5,
     "metadata": {},
     "output_type": "execute_result"
    }
   ],
   "source": [
    "df = load_file('./data/wgEncodeHaibMethyl450A549Etoh02SitesRep1.bed')\n",
    "df['chr'].value_counts()"
   ]
  },
  {
   "cell_type": "code",
   "execution_count": 6,
   "metadata": {},
   "outputs": [],
   "source": [
    "def check_stat(pos, layers):\n",
    "    for layer, positions in layers.items():\n",
    "        for start, end in positions:\n",
    "            if pos < end and pos >= start:\n",
    "                return layer\n",
    "    raise RuntimeError()\n",
    "                \n",
    "\n",
    "def compute_batch(df, results):\n",
    "    stats = []\n",
    "    for i, row in df.iterrows():\n",
    "        pos = (row['stop']+row['start'])//2\n",
    "        layer = check_stat(pos, results[row['chr']])\n",
    "        stats.append(layer)\n",
    "    return Counter(stats)\n",
    "\n",
    "\n",
    "class BedStats:\n",
    "    def __init__(self, size, boundaries, num_workers=8):\n",
    "        self.size = size\n",
    "        self.boundaries = load_boundaries(boundaries)\n",
    "        self.num_workers = num_workers\n",
    "        \n",
    "    def compute_statistics(self, cgd_file, stat_file, out_dir):\n",
    "        results = self._convert(cgd_file)\n",
    "        self._save(results, out_dir)\n",
    "        return self._compute_statistics(results, stat_file)\n",
    "            \n",
    "    def _compute_statistics(self, results, stat_file):\n",
    "        df = load_file(stat_file)\n",
    "        batch_size = len(df) // self.num_workers\n",
    "        batches = [df.iloc[i*batch_size:(i+1)*batch_size] if i < self.num_workers - 1 else\n",
    "                   df.iloc[i*batch_size:] for i in range(self.num_workers)]\n",
    "        \n",
    "        with Pool(processes=self.num_workers) as p:\n",
    "            stats = p.starmap(compute_batch, zip(batches, itertools.repeat(results, self.num_workers)))\n",
    "            \n",
    "        for i in range(1, len(stats)):\n",
    "            stats[0].update(stats[i])\n",
    "        return stats[0]\n",
    "        \n",
    "    def _convert(self, file):\n",
    "        df = load_file(file, start_col=1, stop_col=3)\n",
    "        results = {}\n",
    "        for chromosome in self.boundaries.index:\n",
    "            chr_df = df[df['chr'] == chromosome]\n",
    "            results[chromosome] = self._convert_chromosome(chr_df, self.boundaries.loc[chromosome, 'boundary'])\n",
    "        return results\n",
    "    \n",
    "    def _convert_chromosome(self, df, boundary):\n",
    "        collection = {\n",
    "            'CpG': [],\n",
    "            'Shore': [],\n",
    "            'Shelf': [],\n",
    "            'Sea': []\n",
    "        }\n",
    "        df = df.sort_values(by='start', ascending=True)\n",
    "        self._check_boundary(df.iloc[0]['start'], -self.size, 0, collection)\n",
    "        add_new(df.iloc[0]['start'], df.iloc[0]['stop'], collection['CpG'])\n",
    "        \n",
    "        for i in range(len(df)-1):\n",
    "            start_a, stop_a, start_b, stop_b = df.iloc[i]['start'], df.iloc[i]['stop'], df.iloc[i+1]['start'], df.iloc[i+1]['stop']\n",
    "            if start_b <= stop_a: \n",
    "                add_new(start_a, stop_b, collection['CpG'], check_last=True)\n",
    "                continue\n",
    "            add_new(start_b, stop_b, collection['CpG'], check_last=True)\n",
    "            \n",
    "            # first shore is in range (stop_a, shore_a), second in range (shore_b, start_b)\n",
    "            shore_a, shore_b = stop_a + self.size, start_b - self.size\n",
    "            if self._check_layer(stop_a, shore_a, start_b, shore_b, collection['Shore']):\n",
    "                continue\n",
    "\n",
    "            # first shelf is in range (shore_a, shelf_a), second in range (shelf_b, shore_b)\n",
    "            shelf_a, shelf_b = shore_a + self.size, shore_b - self.size\n",
    "            if self._check_layer(shore_a, shelf_a, shore_b, shelf_b, collection['Shelf']):\n",
    "                continue\n",
    "                \n",
    "            # sea is in range (shelf_a, shelf_b)\n",
    "            add_new(shelf_a, shelf_b, collection['Sea'])\n",
    "\n",
    "        self._check_boundary(df.iloc[len(df)-1]['stop'], self.size, boundary, collection)\n",
    "        return collection\n",
    "    \n",
    "    def _check_layer(self, old_a, new_a, old_b, new_b, collection):\n",
    "        # layer might be from old_a to new_a and from new_b to old_b OR from old_a to old_b\n",
    "        if new_b <= new_a: \n",
    "            add_new(old_a, old_b, collection)\n",
    "            return 1\n",
    "        \n",
    "        add_new(old_a, new_a, collection)\n",
    "        add_new(new_b, old_b, collection)\n",
    "        return 0\n",
    "    \n",
    "    def _check_boundary(self, cpg, change, boundary, collection):\n",
    "        fun = max if boundary == 0 else min\n",
    "        shore = fun(cpg + change, boundary)\n",
    "        if boundary == 0: add_new(shore, cpg, collection['Shore'])\n",
    "        else: add_new(cpg, shore, collection['Shore'])\n",
    "            \n",
    "        if shore != boundary:\n",
    "            shelf = fun(shore + change, boundary)\n",
    "            if boundary == 0: add_new(shelf, shore, collection['Shelf'])\n",
    "            else: add_new(shore, shelf, collection['Shelf'])\n",
    "            \n",
    "            if shelf != boundary:\n",
    "                if boundary == 0: add_new(0, shelf, collection['Sea'])\n",
    "                else: add_new(shelf, boundary, collection['Sea'])\n",
    "                    \n",
    "    def _save(self, results, out_dir):\n",
    "        final = {'CpG': [], 'Shore': [], 'Shelf': [], 'Sea': []}\n",
    "        for chromosome, chr_results in results.items():\n",
    "            for type_, positions in chr_results.items():\n",
    "                chr_type_dict = {\n",
    "                    'chr': [chromosome] * len(positions),\n",
    "                    'start': [p for p, _ in positions],\n",
    "                    'end': [p for _, p in positions],\n",
    "                }\n",
    "                chr_type_df = pd.DataFrame.from_dict(chr_type_dict)\n",
    "                final[type_].append(chr_type_df)\n",
    "                \n",
    "        for type_, chr_dfs in final.items():\n",
    "            type_df = pd.concat(chr_dfs, axis=0, ignore_index=True)\n",
    "            type_df.to_csv(os.path.join(out_dir, f'{type_}.bed'), sep='\\t', header=False, index=False)\n",
    "                \n",
    "            "
   ]
  },
  {
   "cell_type": "code",
   "execution_count": 7,
   "metadata": {},
   "outputs": [
    {
     "data": {
      "text/plain": [
       "Counter({'Shore': 218145, 'Sea': 89262, 'CpG': 132094, 'Shelf': 31369})"
      ]
     },
     "execution_count": 7,
     "metadata": {},
     "output_type": "execute_result"
    }
   ],
   "source": [
    "x = BedStats(size=2*8*2**10, boundaries='./data/hg19.chrom.sizes')\n",
    "stats = x.compute_statistics('./data/cpgIslandExt.txt', './data/wgEncodeHaibMethyl450A549Etoh02SitesRep1.bed', './output/2kb')\n",
    "stats"
   ]
  },
  {
   "cell_type": "code",
   "execution_count": 8,
   "metadata": {},
   "outputs": [
    {
     "data": {
      "image/png": "[encoded data removed]",
      "text/plain": [
       "<Figure size 720x432 with 1 Axes>"
      ]
     },
     "metadata": {
      "needs_background": "light"
     },
     "output_type": "display_data"
    }
   ],
   "source": [
    "plt.figure(figsize=(10, 6))\n",
    "bar = plt.bar(range(4), stats.values())\n",
    "plt.xticks(range(4), stats.keys())\n",
    "percent = [str(round(v/sum(stats.values())*100, 2)) + '%' for v in stats.values()]\n",
    "for rect, p in zip(bar, percent):\n",
    "    height = rect.get_height()\n",
    "    plt.text(rect.get_x() + rect.get_width()/2, height, p, ha='center', va='bottom')\n",
    "plt.title('Size: 2kb')\n",
    "plt.tight_layout()\n",
    "None"
   ]
  },
  {
   "cell_type": "code",
   "execution_count": 9,
   "metadata": {},
   "outputs": [
    {
     "data": {
      "text/plain": [
       "Counter({'Shore': 122913, 'Sea': 170406, 'CpG': 132094, 'Shelf': 45457})"
      ]
     },
     "execution_count": 9,
     "metadata": {},
     "output_type": "execute_result"
    }
   ],
   "source": [
    "x = BedStats(size=2000, boundaries='./data/hg19.chrom.sizes')\n",
    "stats = x.compute_statistics('./data/cpgIslandExt.txt', './data/wgEncodeHaibMethyl450A549Etoh02SitesRep1.bed', './output/2k')\n",
    "stats"
   ]
  },
  {
   "cell_type": "code",
   "execution_count": 10,
   "metadata": {},
   "outputs": [
    {
     "data": {
      "image/png": "[encoded data removed]",
      "text/plain": [
       "<Figure size 720x432 with 1 Axes>"
      ]
     },
     "metadata": {
      "needs_background": "light"
     },
     "output_type": "display_data"
    }
   ],
   "source": [
    "plt.figure(figsize=(10, 6))\n",
    "bar = plt.bar(range(4), stats.values())\n",
    "plt.xticks(range(4), stats.keys())\n",
    "percent = [str(round(v/sum(stats.values())*100, 2)) + '%' for v in stats.values()]\n",
    "for rect, p in zip(bar, percent):\n",
    "    height = rect.get_height()\n",
    "    plt.text(rect.get_x() + rect.get_width()/2, height, p, ha='center', va='bottom')\n",
    "plt.title('Size: 2k')\n",
    "plt.tight_layout()\n",
    "None"
   ]
  },
  {
   "cell_type": "code",
   "execution_count": null,
   "metadata": {},
   "outputs": [],
   "source": []
  }
 ],
 "metadata": {
  "kernelspec": {
   "display_name": "myenv",
   "language": "python",
   "name": "myenv"
  },
  "language_info": {
   "codemirror_mode": {
    "name": "ipython",
    "version": 3
   },
   "file_extension": ".py",
   "mimetype": "text/x-python",
   "name": "python",
   "nbconvert_exporter": "python",
   "pygments_lexer": "ipython3",
   "version": "3.7.4"
  }
 },
 "nbformat": 4,
 "nbformat_minor": 4
}
